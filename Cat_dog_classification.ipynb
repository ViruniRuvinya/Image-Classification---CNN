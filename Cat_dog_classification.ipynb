{
  "nbformat": 4,
  "nbformat_minor": 0,
  "metadata": {
    "colab": {
      "provenance": [],
      "gpuType": "T4",
      "authorship_tag": "ABX9TyPFCFutuTasAa3Va20YYphZ",
      "include_colab_link": true
    },
    "kernelspec": {
      "name": "python3",
      "display_name": "Python 3"
    },
    "language_info": {
      "name": "python"
    },
    "accelerator": "GPU"
  },
  "cells": [
    {
      "cell_type": "markdown",
      "metadata": {
        "id": "view-in-github",
        "colab_type": "text"
      },
      "source": [
        "<a href=\"https://colab.research.google.com/github/ViruniRuvinya/Image-Classification---CNN/blob/main/Cat_dog_classification.ipynb\" target=\"_parent\"><img src=\"https://colab.research.google.com/assets/colab-badge.svg\" alt=\"Open In Colab\"/></a>"
      ]
    },
    {
      "cell_type": "code",
      "source": [
        "!pip install opendatasets -q"
      ],
      "metadata": {
        "id": "JYxZEXU_-lbU"
      },
      "execution_count": 1,
      "outputs": []
    },
    {
      "cell_type": "code",
      "execution_count": 4,
      "metadata": {
        "id": "b_Bbqc2RXj6Z"
      },
      "outputs": [],
      "source": [
        "import numpy as np\n",
        "import pandas as pd\n",
        "import matplotlib.pyplot as plt\n",
        "import tensorflow as tf\n",
        "import time\n",
        "import opendatasets as od"
      ]
    },
    {
      "cell_type": "code",
      "source": [
        "od.download('https://www.kaggle.com/datasets/dineshpiyasamara/cats-and-dogs-for-classification')"
      ],
      "metadata": {
        "colab": {
          "base_uri": "https://localhost:8080/"
        },
        "id": "GBz9x8RZ-ldv",
        "outputId": "f177846c-4e31-43c5-a82c-052c1f550d16"
      },
      "execution_count": 5,
      "outputs": [
        {
          "output_type": "stream",
          "name": "stdout",
          "text": [
            "Please provide your Kaggle credentials to download this dataset. Learn more: http://bit.ly/kaggle-creds\n",
            "Your Kaggle username: viruniruvinya\n",
            "Your Kaggle Key: ··········\n",
            "Dataset URL: https://www.kaggle.com/datasets/dineshpiyasamara/cats-and-dogs-for-classification\n",
            "Downloading cats-and-dogs-for-classification.zip to ./cats-and-dogs-for-classification\n"
          ]
        },
        {
          "output_type": "stream",
          "name": "stderr",
          "text": [
            "100%|██████████| 217M/217M [00:12<00:00, 18.6MB/s]\n"
          ]
        },
        {
          "output_type": "stream",
          "name": "stdout",
          "text": [
            "\n"
          ]
        }
      ]
    },
    {
      "cell_type": "code",
      "source": [
        "Batch_size=32\n",
        "Image_size=(128,128)"
      ],
      "metadata": {
        "id": "ldNczWacecZe"
      },
      "execution_count": 8,
      "outputs": []
    },
    {
      "cell_type": "code",
      "source": [
        "train_data_dir='/content/cats-and-dogs-for-classification/cats_dogs/train'\n",
        "test_data_dir='/content/cats-and-dogs-for-classification/cats_dogs/test'"
      ],
      "metadata": {
        "id": "0iEjwNDP-lgW"
      },
      "execution_count": 7,
      "outputs": []
    },
    {
      "cell_type": "code",
      "source": [
        "train_data=tf.keras.utils.image_dataset_from_directory(train_data_dir,\n",
        "                                                       batch_size=Batch_size,\n",
        "                                                       image_size=Image_size,\n",
        "                                                       subset='training',\n",
        "                                                       validation_split=0.1,\n",
        "                                                       seed=42)\n",
        "\n",
        "validation_data=tf.keras.utils.image_dataset_from_directory(train_data_dir,\n",
        "                                                       batch_size=Batch_size,\n",
        "                                                       image_size=Image_size,\n",
        "                                                       subset='validation',\n",
        "                                                       validation_split=0.1,\n",
        "                                                       seed=42)\n",
        "\n",
        "test_data=tf.keras.utils.image_dataset_from_directory(test_data_dir,\n",
        "                                                       batch_size=Batch_size,\n",
        "                                                       image_size=Image_size)"
      ],
      "metadata": {
        "colab": {
          "base_uri": "https://localhost:8080/"
        },
        "id": "qwzLswlw-ljT",
        "outputId": "7330a843-47b3-4938-9ab1-ce76ad9952a4"
      },
      "execution_count": 10,
      "outputs": [
        {
          "output_type": "stream",
          "name": "stdout",
          "text": [
            "Found 8000 files belonging to 2 classes.\n",
            "Using 7200 files for training.\n",
            "Found 8000 files belonging to 2 classes.\n",
            "Using 800 files for validation.\n",
            "Found 2000 files belonging to 2 classes.\n"
          ]
        }
      ]
    },
    {
      "cell_type": "code",
      "source": [
        "class_names=train_data.class_names\n",
        "class_names"
      ],
      "metadata": {
        "colab": {
          "base_uri": "https://localhost:8080/"
        },
        "id": "G88yryEg-llt",
        "outputId": "a9e00040-7372-46f1-e813-3ca1045d7737"
      },
      "execution_count": 11,
      "outputs": [
        {
          "output_type": "execute_result",
          "data": {
            "text/plain": [
              "['cats', 'dogs']"
            ]
          },
          "metadata": {},
          "execution_count": 11
        }
      ]
    },
    {
      "cell_type": "code",
      "source": [
        "for image_batch,label_batch in train_data.take(1):\n",
        "  print(image_batch.shape)\n",
        "  print(label_batch.shape)"
      ],
      "metadata": {
        "colab": {
          "base_uri": "https://localhost:8080/"
        },
        "id": "zByraUeT-lop",
        "outputId": "fbd4596c-d997-46a8-8b0a-66054a14b22a"
      },
      "execution_count": 13,
      "outputs": [
        {
          "output_type": "stream",
          "name": "stdout",
          "text": [
            "(32, 128, 128, 3)\n",
            "(32,)\n"
          ]
        }
      ]
    },
    {
      "cell_type": "code",
      "source": [],
      "metadata": {
        "id": "QKHE0jHs-lrS"
      },
      "execution_count": null,
      "outputs": []
    },
    {
      "cell_type": "code",
      "source": [],
      "metadata": {
        "id": "FKzygS-G-lt8"
      },
      "execution_count": null,
      "outputs": []
    },
    {
      "cell_type": "code",
      "source": [],
      "metadata": {
        "id": "7S7VGrw5-lwu"
      },
      "execution_count": null,
      "outputs": []
    },
    {
      "cell_type": "code",
      "source": [],
      "metadata": {
        "id": "hXXI8SYV-lzp"
      },
      "execution_count": null,
      "outputs": []
    },
    {
      "cell_type": "code",
      "source": [],
      "metadata": {
        "id": "VgKX-yRC-l2T"
      },
      "execution_count": null,
      "outputs": []
    },
    {
      "cell_type": "code",
      "source": [],
      "metadata": {
        "id": "j53Gj2OL-l5J"
      },
      "execution_count": null,
      "outputs": []
    },
    {
      "cell_type": "code",
      "source": [],
      "metadata": {
        "id": "YWx2hLdJ-l8G"
      },
      "execution_count": null,
      "outputs": []
    },
    {
      "cell_type": "code",
      "source": [],
      "metadata": {
        "id": "7KarxaNl-l-s"
      },
      "execution_count": null,
      "outputs": []
    },
    {
      "cell_type": "code",
      "source": [],
      "metadata": {
        "id": "A7vFWGJu-mBU"
      },
      "execution_count": null,
      "outputs": []
    },
    {
      "cell_type": "code",
      "source": [],
      "metadata": {
        "id": "CFTjGhJL-mEs"
      },
      "execution_count": null,
      "outputs": []
    }
  ]
}